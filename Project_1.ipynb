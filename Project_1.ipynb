{
 "cells": [
  {
   "cell_type": "markdown",
   "id": "89100da1",
   "metadata": {},
   "source": [
    "### Question 1: What are the 5 most popular trips that you would call \"commuter trips\"? \n",
    "\n",
    "In the bike rental business, recurring business is important. Commuter trips offer that recurring business as by the nature of work people have to move from their homes to their places of work. Commuter trips could have the following characteristics:\n",
    "\n",
    "1. The start and end station are not the same. \n",
    "2. They occur during peak hours and weekdays\n",
    "3. They are greater than 1 min."
   ]
  },
  {
   "cell_type": "code",
   "execution_count": 173,
   "id": "538e0fb0",
   "metadata": {},
   "outputs": [
    {
     "name": "stderr",
     "output_type": "stream",
     "text": [
      "Query complete after 0.00s: 100%|██████████| 7/7 [00:00<00:00, 2249.99query/s]                        \n",
      "Downloading: 100%|██████████| 5/5 [00:01<00:00,  3.69rows/s]\n"
     ]
    }
   ],
   "source": [
    "%%bigquery commuter_trips_top_5\n",
    "\n",
    "# Map the day of the week number to strings.\n",
    "CREATE TEMPORARY FUNCTION dayOfWeek(x TIMESTAMP) AS(  ['Sun','Mon', 'Tue', 'Wed', 'Thu', 'Fri', 'Sat']      [ORDINAL(EXTRACT(DAYOFWEEK from x))]);\n",
    "\n",
    "# Creating a filtered table with trip duration greater than 60 seconds, trip day is a weekday and start time is the top 6 commuting hours. \n",
    "WITH filtered_bikeshare_trips AS (\n",
    "    SELECT start_station_name, end_station_name, duration_sec, trip_id, start_station_id\n",
    "    FROM `bigquery-public-data.san_francisco.bikeshare_trips`\n",
    "    WHERE duration_sec >= 61 AND EXTRACT(HOUR from start_date) IN (\n",
    "# Subquery to selected top 6 commuter hours. This results in three morning hours and three evening hours\n",
    "        SELECT start_hour FROM (\n",
    "            SELECT EXTRACT(HOUR from start_date) AS start_hour,\n",
    "            COUNT(trip_id) as num_trips\n",
    "            FROM `bigquery-public-data.san_francisco.bikeshare_trips`\n",
    "            GROUP BY start_hour\n",
    "            ORDER BY num_trips DESC LIMIT 6\n",
    ")) AND dayOfWeek(start_date) IN UNNEST(['Mon', 'Tue', 'Wed', 'Thu', 'Fri'])\n",
    ")\n",
    "# Query to select the start and end stations where the start and end station are not the same. They stations are ordered by the number of trips and limited to top 5\n",
    "SELECT start_station_name, end_station_name, start_station_id, count(trip_id) as num_trips\n",
    "FROM filtered_bikeshare_trips\n",
    "Where start_station_name <> end_station_name\n",
    "GROUP BY start_station_name, end_station_name, start_station_id\n",
    "ORDER BY num_trips DESC\n",
    "LIMIT 5;\n"
   ]
  },
  {
   "cell_type": "code",
   "execution_count": 174,
   "id": "3ceb9c64",
   "metadata": {},
   "outputs": [
    {
     "data": {
      "text/html": [
       "<div>\n",
       "<style scoped>\n",
       "    .dataframe tbody tr th:only-of-type {\n",
       "        vertical-align: middle;\n",
       "    }\n",
       "\n",
       "    .dataframe tbody tr th {\n",
       "        vertical-align: top;\n",
       "    }\n",
       "\n",
       "    .dataframe thead th {\n",
       "        text-align: right;\n",
       "    }\n",
       "</style>\n",
       "<table border=\"1\" class=\"dataframe\">\n",
       "  <thead>\n",
       "    <tr style=\"text-align: right;\">\n",
       "      <th></th>\n",
       "      <th>start_station_name</th>\n",
       "      <th>end_station_name</th>\n",
       "      <th>start_station_id</th>\n",
       "      <th>num_trips</th>\n",
       "    </tr>\n",
       "  </thead>\n",
       "  <tbody>\n",
       "    <tr>\n",
       "      <th>0</th>\n",
       "      <td>2nd at Townsend</td>\n",
       "      <td>Harry Bridges Plaza (Ferry Building)</td>\n",
       "      <td>61</td>\n",
       "      <td>5165</td>\n",
       "    </tr>\n",
       "    <tr>\n",
       "      <th>1</th>\n",
       "      <td>Harry Bridges Plaza (Ferry Building)</td>\n",
       "      <td>2nd at Townsend</td>\n",
       "      <td>50</td>\n",
       "      <td>5127</td>\n",
       "    </tr>\n",
       "    <tr>\n",
       "      <th>2</th>\n",
       "      <td>San Francisco Caltrain 2 (330 Townsend)</td>\n",
       "      <td>Townsend at 7th</td>\n",
       "      <td>69</td>\n",
       "      <td>5040</td>\n",
       "    </tr>\n",
       "    <tr>\n",
       "      <th>3</th>\n",
       "      <td>Embarcadero at Sansome</td>\n",
       "      <td>Steuart at Market</td>\n",
       "      <td>60</td>\n",
       "      <td>4904</td>\n",
       "    </tr>\n",
       "    <tr>\n",
       "      <th>4</th>\n",
       "      <td>Embarcadero at Folsom</td>\n",
       "      <td>San Francisco Caltrain (Townsend at 4th)</td>\n",
       "      <td>51</td>\n",
       "      <td>4756</td>\n",
       "    </tr>\n",
       "  </tbody>\n",
       "</table>\n",
       "</div>"
      ],
      "text/plain": [
       "                        start_station_name  \\\n",
       "0                          2nd at Townsend   \n",
       "1     Harry Bridges Plaza (Ferry Building)   \n",
       "2  San Francisco Caltrain 2 (330 Townsend)   \n",
       "3                   Embarcadero at Sansome   \n",
       "4                    Embarcadero at Folsom   \n",
       "\n",
       "                           end_station_name  start_station_id  num_trips  \n",
       "0      Harry Bridges Plaza (Ferry Building)                61       5165  \n",
       "1                           2nd at Townsend                50       5127  \n",
       "2                           Townsend at 7th                69       5040  \n",
       "3                         Steuart at Market                60       4904  \n",
       "4  San Francisco Caltrain (Townsend at 4th)                51       4756  "
      ]
     },
     "execution_count": 174,
     "metadata": {},
     "output_type": "execute_result"
    }
   ],
   "source": [
    "commuter_trips_top_5"
   ]
  },
  {
   "cell_type": "markdown",
   "id": "2e408df1",
   "metadata": {},
   "source": [
    "The commuter trips are \n",
    "* 2nd at Townsend to Harry Bridges Plaza (Ferry Building) with 5165 trips\n",
    "* Harry Bridges Plaza (Ferry Building) to 2nd at Townsend with 5127 trips\n",
    "* San Francisco Caltrain 2 (330 Townsend) to Townsend at 7th with 5040 trips\n",
    "* Embarcadero at Sansome to Steuart at Market with 4904\n",
    "* Embarcadero at Folsom to San Francisco Caltrain (Townsend at 4th) with 4756 trips\n"
   ]
  },
  {
   "cell_type": "markdown",
   "id": "2775a8b8",
   "metadata": {},
   "source": [
    "### Question 2: What are your recommendations for offers (justify based on your findings)?"
   ]
  },
  {
   "cell_type": "markdown",
   "id": "7fd7f7df",
   "metadata": {},
   "source": [
    "To recommend offers, I first want to understand the types of customers that we have and their behvaior patterns. On the website, https://www.lyft.com/bikes/bay-wheels, there are three main types of customers - Monthly, Daily and One Ride Customers. In the database, we see that data is captured by mainly with two main types of users - Subscribers and Customers. Subscriber can be annual or 30-day member; Customer can be 24-hour or 3-day member. I can understand the behaviour of the users at the level of Subscriber or Customer. I can also look to understand the motivations of the Users. We can explore to see if the motivation is to commute to work, run errands or sightsee. \n",
    "\n",
    "Secondly to recommend offers, I could take a look at the time-related supply and demand at stations. Since I know the peaktime and downtime of usage through the historical data, we could capitalize on that to provide offers at the stations where the supply is abunduntly available. \n",
    "\n",
    "Also note that the recommendations are based on historical analysis of the data and there is no real-time recommendation on offers. The offers cannot be individualized as we not have data at the user level. The analysis is done using the current dataset and external databases have not been brought in the analysis.\n",
    "\n",
    "#### Understanding user behaviour\n",
    "\n",
    "To understand user behavior, I need to see if there are differences in how different user types engage with us. The difference could be in the day and time of the day, duration of the trips, and type of the trips. To dig deeper, I would make some observations and analyze them through data.\n",
    "\n",
    "*Theory 1: Subscribers would use the service on weekdays while Customers would use the service on Weekends\n",
    "\n",
    "*Theory 2: Subscribers would use for smaller durations as compared to Customers. \n",
    "\n",
    "*Theory 3: Subscribers would use the service for commuter trips.\n",
    "\n",
    "#### Understanding time related supply and demand at stations. \n",
    "\n",
    "The nature of business is such that if the inventory remains idle, \n",
    "\n",
    "*Theory 4: The bikes are idle at night and non peak hours. \n",
    "\n",
    "*Theory 5: The utilization of bikes is uneven across stations. \n",
    "\n",
    "*Theory 6: There are some stations were supply is constant indicating that demand is not present.\n",
    "\n",
    "#### Recommendations\n",
    "\n",
    "After understanding user behaviour patterns and supply-demand patterns, I would like to make the following recommendations:\n",
    "\n",
    "1. Incentivise the users that are customers (daily/trip-based plan) and use the service during peak hours to upgrade to Subscribers (Monthly/Yearly plan) by offering them subsidized subscriber plans. \n",
    "2. Incentivise the users to use the service on Saturday and Sunday when the demand is low. Overall, if the trip duration is longer during the weekend as compared to the weekdays. Depending on the business and operational objectives, users can be incentivized to make shorter trips on weekends.\n",
    "3. Among all the weekdays, the usage on Fridays is the least among both the user types. Provide discounted price to Customer Segments to increase the usage on Fridays. \n",
    "4. Provide introductory mailers to new users to use services at the station where the availability is high in terms of the absolute average number of bikes available or the percentage of bikes_available is higher than 60%. Such stations are outlined in the description below.\n",
    "\n",
    "The reasoning behind the recommendations is shown in the sql queries and descriptions below. Each recommendation is derived through the careful analysis of three datasets - \n",
    "* bikeshare_trips - The event based data that has 983648 trips from 2013-08-29 to 2016-08-31. \n",
    "* bikeshare_stations - There are 74 unique stations that were installed between 2013-08-05 to 2016-08-04.\n",
    "* bikeshare_status - There are 75 unique stations where the status of the bikes and docks is maintianed between 2013-08-29 and 2016-08-31.  "
   ]
  },
  {
   "cell_type": "markdown",
   "id": "1eff2bde",
   "metadata": {},
   "source": [
    "Do Subscribers use the service on weekdays while Customers use the service on Weekends? Do Subscribers have higher trip duration than Customers?  To answer this, we build the following query to see patterns.\n",
    "    "
   ]
  },
  {
   "cell_type": "code",
   "execution_count": 111,
   "id": "1c81571a",
   "metadata": {},
   "outputs": [
    {
     "name": "stderr",
     "output_type": "stream",
     "text": [
      "Query complete after 0.00s: 100%|██████████| 3/3 [00:00<00:00, 1463.30query/s]                        \n",
      "Downloading: 100%|██████████| 14/14 [00:01<00:00,  8.50rows/s]\n"
     ]
    }
   ],
   "source": [
    "%%bigquery Observation_1\n",
    "\n",
    "CREATE TEMPORARY FUNCTION dayOfWeek(x TIMESTAMP) AS(  ['Sun','Mon', 'Tue', 'Wed', 'Thu', 'Fri', 'Sat']      [ORDINAL(EXTRACT(DAYOFWEEK from x))]);\n",
    "\n",
    "SELECT subscriber_type, dayOfWeek(start_date) as day_of_week , COUNT(trip_id) as trips, avg(duration_sec) / 60 AS minutes\n",
    "FROM `bigquery-public-data.san_francisco.bikeshare_trips` \n",
    "Where duration_sec >= 61 AND duration_sec <= 8 * 60 *60\n",
    "group by day_of_week, subscriber_type\n",
    "Order by trips DESC"
   ]
  },
  {
   "cell_type": "code",
   "execution_count": 112,
   "id": "ea05e212",
   "metadata": {},
   "outputs": [
    {
     "data": {
      "text/html": [
       "<div>\n",
       "<style scoped>\n",
       "    .dataframe tbody tr th:only-of-type {\n",
       "        vertical-align: middle;\n",
       "    }\n",
       "\n",
       "    .dataframe tbody tr th {\n",
       "        vertical-align: top;\n",
       "    }\n",
       "\n",
       "    .dataframe thead th {\n",
       "        text-align: right;\n",
       "    }\n",
       "</style>\n",
       "<table border=\"1\" class=\"dataframe\">\n",
       "  <thead>\n",
       "    <tr style=\"text-align: right;\">\n",
       "      <th></th>\n",
       "      <th>subscriber_type</th>\n",
       "      <th>day_of_week</th>\n",
       "      <th>trips</th>\n",
       "      <th>minutes</th>\n",
       "    </tr>\n",
       "  </thead>\n",
       "  <tbody>\n",
       "    <tr>\n",
       "      <th>0</th>\n",
       "      <td>Subscriber</td>\n",
       "      <td>Tue</td>\n",
       "      <td>169556</td>\n",
       "      <td>8.985598</td>\n",
       "    </tr>\n",
       "    <tr>\n",
       "      <th>1</th>\n",
       "      <td>Subscriber</td>\n",
       "      <td>Wed</td>\n",
       "      <td>165421</td>\n",
       "      <td>9.036686</td>\n",
       "    </tr>\n",
       "    <tr>\n",
       "      <th>2</th>\n",
       "      <td>Subscriber</td>\n",
       "      <td>Thu</td>\n",
       "      <td>160218</td>\n",
       "      <td>9.042957</td>\n",
       "    </tr>\n",
       "    <tr>\n",
       "      <th>3</th>\n",
       "      <td>Subscriber</td>\n",
       "      <td>Mon</td>\n",
       "      <td>154673</td>\n",
       "      <td>8.966808</td>\n",
       "    </tr>\n",
       "    <tr>\n",
       "      <th>4</th>\n",
       "      <td>Subscriber</td>\n",
       "      <td>Fri</td>\n",
       "      <td>139944</td>\n",
       "      <td>9.098199</td>\n",
       "    </tr>\n",
       "    <tr>\n",
       "      <th>5</th>\n",
       "      <td>Subscriber</td>\n",
       "      <td>Sat</td>\n",
       "      <td>31004</td>\n",
       "      <td>9.839889</td>\n",
       "    </tr>\n",
       "    <tr>\n",
       "      <th>6</th>\n",
       "      <td>Customer</td>\n",
       "      <td>Sat</td>\n",
       "      <td>28820</td>\n",
       "      <td>49.363111</td>\n",
       "    </tr>\n",
       "    <tr>\n",
       "      <th>7</th>\n",
       "      <td>Customer</td>\n",
       "      <td>Sun</td>\n",
       "      <td>25552</td>\n",
       "      <td>51.036323</td>\n",
       "    </tr>\n",
       "    <tr>\n",
       "      <th>8</th>\n",
       "      <td>Subscriber</td>\n",
       "      <td>Sun</td>\n",
       "      <td>25434</td>\n",
       "      <td>10.091692</td>\n",
       "    </tr>\n",
       "    <tr>\n",
       "      <th>9</th>\n",
       "      <td>Customer</td>\n",
       "      <td>Fri</td>\n",
       "      <td>19681</td>\n",
       "      <td>42.770449</td>\n",
       "    </tr>\n",
       "    <tr>\n",
       "      <th>10</th>\n",
       "      <td>Customer</td>\n",
       "      <td>Thu</td>\n",
       "      <td>16426</td>\n",
       "      <td>38.991089</td>\n",
       "    </tr>\n",
       "    <tr>\n",
       "      <th>11</th>\n",
       "      <td>Customer</td>\n",
       "      <td>Wed</td>\n",
       "      <td>15061</td>\n",
       "      <td>38.251160</td>\n",
       "    </tr>\n",
       "    <tr>\n",
       "      <th>12</th>\n",
       "      <td>Customer</td>\n",
       "      <td>Mon</td>\n",
       "      <td>14968</td>\n",
       "      <td>41.786731</td>\n",
       "    </tr>\n",
       "    <tr>\n",
       "      <th>13</th>\n",
       "      <td>Customer</td>\n",
       "      <td>Tue</td>\n",
       "      <td>14556</td>\n",
       "      <td>38.423955</td>\n",
       "    </tr>\n",
       "  </tbody>\n",
       "</table>\n",
       "</div>"
      ],
      "text/plain": [
       "   subscriber_type day_of_week   trips    minutes\n",
       "0       Subscriber         Tue  169556   8.985598\n",
       "1       Subscriber         Wed  165421   9.036686\n",
       "2       Subscriber         Thu  160218   9.042957\n",
       "3       Subscriber         Mon  154673   8.966808\n",
       "4       Subscriber         Fri  139944   9.098199\n",
       "5       Subscriber         Sat   31004   9.839889\n",
       "6         Customer         Sat   28820  49.363111\n",
       "7         Customer         Sun   25552  51.036323\n",
       "8       Subscriber         Sun   25434  10.091692\n",
       "9         Customer         Fri   19681  42.770449\n",
       "10        Customer         Thu   16426  38.991089\n",
       "11        Customer         Wed   15061  38.251160\n",
       "12        Customer         Mon   14968  41.786731\n",
       "13        Customer         Tue   14556  38.423955"
      ]
     },
     "execution_count": 112,
     "metadata": {},
     "output_type": "execute_result"
    }
   ],
   "source": [
    "Observation_1"
   ]
  },
  {
   "cell_type": "code",
   "execution_count": 113,
   "id": "e7709ec1",
   "metadata": {},
   "outputs": [],
   "source": [
    "import numpy as np\n",
    "import pandas as pd\n",
    "import matplotlib.pyplot as plt"
   ]
  },
  {
   "cell_type": "code",
   "execution_count": 228,
   "id": "5c401ce6",
   "metadata": {},
   "outputs": [
    {
     "data": {
      "text/plain": [
       "array([<AxesSubplot:title={'center':'trips'}, xlabel='subscriber_type'>,\n",
       "       <AxesSubplot:title={'center':'minutes'}, xlabel='subscriber_type'>],\n",
       "      dtype=object)"
      ]
     },
     "execution_count": 228,
     "metadata": {},
     "output_type": "execute_result"
    },
    {
     "data": {
      "image/png": "[encoded data removed]",
      "text/plain": [
       "<Figure size 640x480 with 2 Axes>"
      ]
     },
     "metadata": {},
     "output_type": "display_data"
    }
   ],
   "source": [
    "Observation_1.groupby('subscriber_type').sum().plot.bar(color={'trips': 'pink', 'minutes': 'orange'}, subplots=True)"
   ]
  },
  {
   "cell_type": "code",
   "execution_count": 229,
   "id": "a183e993",
   "metadata": {},
   "outputs": [
    {
     "data": {
      "text/plain": [
       "array([<AxesSubplot:title={'center':'trips'}, xlabel='day_of_week'>,\n",
       "       <AxesSubplot:title={'center':'minutes'}, xlabel='day_of_week'>],\n",
       "      dtype=object)"
      ]
     },
     "execution_count": 229,
     "metadata": {},
     "output_type": "execute_result"
    },
    {
     "data": {
      "image/png": "[encoded data removed]",
      "text/plain": [
       "<Figure size 640x480 with 2 Axes>"
      ]
     },
     "metadata": {},
     "output_type": "display_data"
    }
   ],
   "source": [
    "Observation_1.groupby('day_of_week').sum().plot.bar(color={'trips': 'pink', 'minutes': 'orange'}, subplots=True)"
   ]
  },
  {
   "cell_type": "markdown",
   "id": "a393e3e7",
   "metadata": {},
   "source": [
    "##### Observation 1 and 2\n",
    "\n",
    "From the table and graphs, we can notice that Customers generally use the service on Saturday and Sunday. Subscribers use it on weekdays the most. I observe that Subscribers also use it on Saturday. However subscribers do not use the service as much on Sunday. One recommendation is to provide offers to Subscribers on Sunday to increase the usage of bikes. Overall, the least usage is on Sunday. From the table and graphs, we notice that average trip duration is higher during weekends as compared to weekdays. Overall customers have higher average duration as compared to subscribers. "
   ]
  },
  {
   "cell_type": "markdown",
   "id": "d4702b78",
   "metadata": {},
   "source": [
    "##### Do Subscribers use the service for commuter trips more than Customers?\n",
    "\n",
    "From the queries below we query the table first for only commuter trips. Next in the filtered table, I would like to see if the proportion of Customer is lower than Subscribers."
   ]
  },
  {
   "cell_type": "code",
   "execution_count": 212,
   "id": "052c48f0",
   "metadata": {},
   "outputs": [
    {
     "name": "stderr",
     "output_type": "stream",
     "text": [
      "Query complete after 0.00s: 100%|██████████| 6/6 [00:00<00:00, 1867.32query/s]                        \n",
      "Downloading: 100%|██████████| 554128/554128 [00:01<00:00, 342197.93rows/s]\n"
     ]
    }
   ],
   "source": [
    "%%bigquery all_commuter_trips\n",
    "\n",
    "CREATE TEMPORARY FUNCTION dayOfWeek(x TIMESTAMP) AS(  ['Sun','Mon', 'Tue', 'Wed', 'Thu', 'Fri', 'Sat']      [ORDINAL(EXTRACT(DAYOFWEEK from x))]);\n",
    "\n",
    "WITH filtered_bikeshare_trips AS (\n",
    "    SELECT start_station_name, end_station_name, duration_sec, trip_id, subscriber_type, bike_number, start_date, end_date\n",
    "    FROM `bigquery-public-data.san_francisco.bikeshare_trips`\n",
    "    WHERE duration_sec >= 61 AND EXTRACT(HOUR from start_date) IN (\n",
    "        SELECT start_hour FROM (\n",
    "            SELECT EXTRACT(HOUR from start_date) AS start_hour,\n",
    "            COUNT(trip_id) as num_trips\n",
    "            FROM `bigquery-public-data.san_francisco.bikeshare_trips`\n",
    "            GROUP BY start_hour\n",
    "            ORDER BY num_trips DESC LIMIT 6\n",
    ")) AND dayOfWeek(start_date) IN UNNEST(['Mon', 'Tue', 'Wed', 'Thu', 'Fri'])\n",
    ")\n",
    "SELECT start_station_name, end_station_name, trip_id, duration_sec, subscriber_type, bike_number, start_date, end_date\n",
    "FROM filtered_bikeshare_trips\n",
    "Where start_station_name <> end_station_name"
   ]
  },
  {
   "cell_type": "code",
   "execution_count": 121,
   "id": "4e479acb",
   "metadata": {},
   "outputs": [
    {
     "data": {
      "text/plain": [
       "<AxesSubplot:xlabel='subscriber_type'>"
      ]
     },
     "execution_count": 121,
     "metadata": {},
     "output_type": "execute_result"
    },
    {
     "data": {
      "image/png": "[encoded data removed]",
      "text/plain": [
       "<Figure size 640x480 with 1 Axes>"
      ]
     },
     "metadata": {},
     "output_type": "display_data"
    }
   ],
   "source": [
    "all_commuter_trips.filter(items=['subscriber_type', 'trip_id', 'duration_sec']).groupby('subscriber_type').count().plot(kind='bar')"
   ]
  },
  {
   "cell_type": "markdown",
   "id": "9d569995",
   "metadata": {},
   "source": [
    "From the query and table above, I notice that the theory that most commuters would be Subscribers seems to be correct. Here we also notice that there are some users of type Customers that take commuter trips. There is a possibility to upsell the Customer to Subscriber model. The explaination is shown in the charts below"
   ]
  },
  {
   "cell_type": "markdown",
   "id": "5020fe14",
   "metadata": {},
   "source": [
    "##### Observation 5: Finding the top stations where there is high availability of bikes on average.\n",
    "\n",
    "The following query aggregates the average bikes available by station id and day of the week. The output is sorted by the bike availability for the top 100.  "
   ]
  },
  {
   "cell_type": "code",
   "execution_count": 248,
   "id": "959719d4",
   "metadata": {},
   "outputs": [
    {
     "name": "stderr",
     "output_type": "stream",
     "text": [
      "Query complete after 0.00s: 100%|██████████| 4/4 [00:00<00:00, 1298.65query/s]                        \n",
      "Downloading: 100%|██████████| 25/25 [00:01<00:00, 16.97rows/s]\n"
     ]
    }
   ],
   "source": [
    "%%bigquery bikeshare_status\n",
    "\n",
    "# Finding the top stations where the most bikes are available.\n",
    "\n",
    "SELECT a.station_id, \n",
    "avg(bikes_available) as avg_bikes_available,\n",
    "avg(docks_available) as avg_docks_available,\n",
    "name, landmark\n",
    "FROM `bigquery-public-data.san_francisco.bikeshare_status` a inner join `bigquery-public-data.san_francisco.bikeshare_stations` b on\n",
    "a.station_id = b.station_id\n",
    "GROUP BY 1,4,5\n",
    "ORDER BY 2 DESC\n",
    "LIMIT 25"
   ]
  },
  {
   "cell_type": "code",
   "execution_count": 250,
   "id": "c1fdbfd6",
   "metadata": {},
   "outputs": [
    {
     "data": {
      "text/plain": [
       "<AxesSubplot:xlabel='station_id'>"
      ]
     },
     "execution_count": 250,
     "metadata": {},
     "output_type": "execute_result"
    },
    {
     "data": {
      "image/png": "[encoded data removed]",
      "text/plain": [
       "<Figure size 640x480 with 1 Axes>"
      ]
     },
     "metadata": {},
     "output_type": "display_data"
    }
   ],
   "source": [
    "bikeshare_status.plot(x= \"station_id\", y = \"avg_bikes_available\", kind=\"bar\")"
   ]
  },
  {
   "cell_type": "code",
   "execution_count": 251,
   "id": "c4588bb0",
   "metadata": {},
   "outputs": [
    {
     "data": {
      "text/plain": [
       "0                               5th St at Folsom St\n",
       "1                                   2nd at Townsend\n",
       "2              Harry Bridges Plaza (Ferry Building)\n",
       "3                                 Market at Sansome\n",
       "4                 San Jose Diridon Caltrain Station\n",
       "5           San Francisco Caltrain 2 (330 Townsend)\n",
       "6                                 Steuart at Market\n",
       "7                     Redwood City Caltrain Station\n",
       "8                    Mountain View Caltrain Station\n",
       "9     Temporary Transbay Terminal (Howard at Beale)\n",
       "10                Civic Center BART (7th at Market)\n",
       "11         San Francisco Caltrain (Townsend at 4th)\n",
       "12                     San Antonio Caltrain Station\n",
       "13                       Palo Alto Caltrain Station\n",
       "14                                   Market at 10th\n",
       "15                               Powell Street BART\n",
       "16                           SJSU 4th at San Carlos\n",
       "17                                      MLK Library\n",
       "18                     5th S. at E. San Salvador St\n",
       "19                    Powell at Post (Union Square)\n",
       "20    Yerba Buena Center of the Arts (3rd @ Howard)\n",
       "21                  California Ave Caltrain Station\n",
       "22                                    Market at 4th\n",
       "23                              Golden Gate at Polk\n",
       "24                         South Van Ness at Market\n",
       "Name: name, dtype: object"
      ]
     },
     "execution_count": 251,
     "metadata": {},
     "output_type": "execute_result"
    }
   ],
   "source": [
    "bikeshare_status.name"
   ]
  },
  {
   "cell_type": "markdown",
   "id": "a51ab60a",
   "metadata": {},
   "source": [
    "The above mentioned stations have the highest number of bike availability on average. Since the inventory is just suitting there on average, we could attract new users that can utlize these bike stations. \n",
    "\n",
    "##### Observation: Check the average availability of bikes over the hours. My theory is that during non peak hours the availability of the bikes should increase accross all stations across all days. \n",
    "\n",
    "The query below gets the average availability of the bikes grouped by the hour and month "
   ]
  },
  {
   "cell_type": "code",
   "execution_count": 281,
   "id": "09ac9801",
   "metadata": {},
   "outputs": [
    {
     "name": "stderr",
     "output_type": "stream",
     "text": [
      "Query complete after 0.00s: 100%|██████████| 3/3 [00:00<00:00, 931.10query/s]                         \n",
      "Downloading: 100%|██████████| 24/24 [00:01<00:00, 18.97rows/s]\n"
     ]
    }
   ],
   "source": [
    "%%bigquery bikeshare_status_hours\n",
    "\n",
    "SELECT Extract(hour from time) as status_hour,\n",
    "avg(bikes_available) as avg_bikes_available\n",
    "FROM `bigquery-public-data.san_francisco.bikeshare_status`\n",
    "GROUP BY 1\n",
    "ORDER BY 2 DESC"
   ]
  },
  {
   "cell_type": "code",
   "execution_count": 282,
   "id": "09c89be9",
   "metadata": {},
   "outputs": [
    {
     "data": {
      "text/plain": [
       "<AxesSubplot:xlabel='status_hour'>"
      ]
     },
     "execution_count": 282,
     "metadata": {},
     "output_type": "execute_result"
    },
    {
     "data": {
      "image/png": "[encoded data removed]",
      "text/plain": [
       "<Figure size 640x480 with 1 Axes>"
      ]
     },
     "metadata": {},
     "output_type": "display_data"
    }
   ],
   "source": [
    "bikeshare_status_hours.sort_values('status_hour').plot(x='status_hour', y = 'sum_bikes_available', kind = 'bar')"
   ]
  },
  {
   "cell_type": "markdown",
   "id": "c98de09d",
   "metadata": {},
   "source": [
    "Overall there are same number of avg bikes available during all the hours of the day across all stations. So there is no reasonable hour at which we could send offers. Our theory of The bikes are idle at night and non peak hours does not have merit. "
   ]
  },
  {
   "cell_type": "markdown",
   "id": "e49a8ce7",
   "metadata": {},
   "source": [
    "##### Now we try to find the bike stations where percentage utilization is very low. A proxy for percetage utlization could be the number of bike available upon the maximum number of bike available at that station. \n",
    "\n",
    "The below query finds the top 25 stations ids where the bike availability is the highest."
   ]
  },
  {
   "cell_type": "code",
   "execution_count": 286,
   "id": "6845ab73",
   "metadata": {},
   "outputs": [
    {
     "name": "stderr",
     "output_type": "stream",
     "text": [
      "Query complete after 0.00s: 100%|██████████| 1/1 [00:00<00:00, 480.45query/s] \n",
      "Downloading: 100%|██████████| 25/25 [00:01<00:00, 17.03rows/s]\n"
     ]
    }
   ],
   "source": [
    "%%bigquery bikeshare_top25_bike_availability\n",
    "\n",
    "SELECT station_id,\n",
    "avg(bikes_available)/max(bikes_available) * 100 as pct_bikes,\n",
    "avg(docks_available) as avg_docks_available,\n",
    "FROM `bigquery-public-data.san_francisco.bikeshare_status`\n",
    "GROUP BY 1\n",
    "HAVING max(bikes_available) > 0\n",
    "ORDER BY 2 DESC LIMIT 25"
   ]
  },
  {
   "cell_type": "code",
   "execution_count": 290,
   "id": "8869269b",
   "metadata": {},
   "outputs": [
    {
     "data": {
      "text/html": [
       "<div>\n",
       "<style scoped>\n",
       "    .dataframe tbody tr th:only-of-type {\n",
       "        vertical-align: middle;\n",
       "    }\n",
       "\n",
       "    .dataframe tbody tr th {\n",
       "        vertical-align: top;\n",
       "    }\n",
       "\n",
       "    .dataframe thead th {\n",
       "        text-align: right;\n",
       "    }\n",
       "</style>\n",
       "<table border=\"1\" class=\"dataframe\">\n",
       "  <thead>\n",
       "    <tr style=\"text-align: right;\">\n",
       "      <th></th>\n",
       "      <th>station_id</th>\n",
       "      <th>pct_bikes</th>\n",
       "      <th>avg_docks_available</th>\n",
       "    </tr>\n",
       "  </thead>\n",
       "  <tbody>\n",
       "    <tr>\n",
       "      <th>0</th>\n",
       "      <td>88</td>\n",
       "      <td>81.273640</td>\n",
       "      <td>10.023536</td>\n",
       "    </tr>\n",
       "    <tr>\n",
       "      <th>1</th>\n",
       "      <td>89</td>\n",
       "      <td>63.650705</td>\n",
       "      <td>13.265064</td>\n",
       "    </tr>\n",
       "    <tr>\n",
       "      <th>2</th>\n",
       "      <td>50</td>\n",
       "      <td>57.981858</td>\n",
       "      <td>9.576255</td>\n",
       "    </tr>\n",
       "    <tr>\n",
       "      <th>3</th>\n",
       "      <td>70</td>\n",
       "      <td>57.837759</td>\n",
       "      <td>7.936394</td>\n",
       "    </tr>\n",
       "    <tr>\n",
       "      <th>4</th>\n",
       "      <td>90</td>\n",
       "      <td>57.393914</td>\n",
       "      <td>14.338156</td>\n",
       "    </tr>\n",
       "    <tr>\n",
       "      <th>5</th>\n",
       "      <td>36</td>\n",
       "      <td>56.656871</td>\n",
       "      <td>6.483567</td>\n",
       "    </tr>\n",
       "    <tr>\n",
       "      <th>6</th>\n",
       "      <td>54</td>\n",
       "      <td>55.542071</td>\n",
       "      <td>6.628407</td>\n",
       "    </tr>\n",
       "    <tr>\n",
       "      <th>7</th>\n",
       "      <td>3</td>\n",
       "      <td>54.730211</td>\n",
       "      <td>6.779045</td>\n",
       "    </tr>\n",
       "    <tr>\n",
       "      <th>8</th>\n",
       "      <td>69</td>\n",
       "      <td>54.473921</td>\n",
       "      <td>10.396655</td>\n",
       "    </tr>\n",
       "    <tr>\n",
       "      <th>9</th>\n",
       "      <td>35</td>\n",
       "      <td>54.368264</td>\n",
       "      <td>5.004499</td>\n",
       "    </tr>\n",
       "    <tr>\n",
       "      <th>10</th>\n",
       "      <td>7</td>\n",
       "      <td>54.101548</td>\n",
       "      <td>6.843385</td>\n",
       "    </tr>\n",
       "    <tr>\n",
       "      <th>11</th>\n",
       "      <td>83</td>\n",
       "      <td>53.110344</td>\n",
       "      <td>8.616821</td>\n",
       "    </tr>\n",
       "    <tr>\n",
       "      <th>12</th>\n",
       "      <td>74</td>\n",
       "      <td>52.876300</td>\n",
       "      <td>10.223282</td>\n",
       "    </tr>\n",
       "    <tr>\n",
       "      <th>13</th>\n",
       "      <td>39</td>\n",
       "      <td>52.719243</td>\n",
       "      <td>8.930028</td>\n",
       "    </tr>\n",
       "    <tr>\n",
       "      <th>14</th>\n",
       "      <td>24</td>\n",
       "      <td>52.268442</td>\n",
       "      <td>7.839994</td>\n",
       "    </tr>\n",
       "    <tr>\n",
       "      <th>15</th>\n",
       "      <td>9</td>\n",
       "      <td>51.677286</td>\n",
       "      <td>7.210585</td>\n",
       "    </tr>\n",
       "    <tr>\n",
       "      <th>16</th>\n",
       "      <td>30</td>\n",
       "      <td>50.849658</td>\n",
       "      <td>7.354856</td>\n",
       "    </tr>\n",
       "    <tr>\n",
       "      <th>17</th>\n",
       "      <td>65</td>\n",
       "      <td>50.524061</td>\n",
       "      <td>7.378465</td>\n",
       "    </tr>\n",
       "    <tr>\n",
       "      <th>18</th>\n",
       "      <td>28</td>\n",
       "      <td>50.230328</td>\n",
       "      <td>11.421451</td>\n",
       "    </tr>\n",
       "    <tr>\n",
       "      <th>19</th>\n",
       "      <td>55</td>\n",
       "      <td>50.125193</td>\n",
       "      <td>11.405182</td>\n",
       "    </tr>\n",
       "  </tbody>\n",
       "</table>\n",
       "</div>"
      ],
      "text/plain": [
       "    station_id  pct_bikes  avg_docks_available\n",
       "0           88  81.273640            10.023536\n",
       "1           89  63.650705            13.265064\n",
       "2           50  57.981858             9.576255\n",
       "3           70  57.837759             7.936394\n",
       "4           90  57.393914            14.338156\n",
       "5           36  56.656871             6.483567\n",
       "6           54  55.542071             6.628407\n",
       "7            3  54.730211             6.779045\n",
       "8           69  54.473921            10.396655\n",
       "9           35  54.368264             5.004499\n",
       "10           7  54.101548             6.843385\n",
       "11          83  53.110344             8.616821\n",
       "12          74  52.876300            10.223282\n",
       "13          39  52.719243             8.930028\n",
       "14          24  52.268442             7.839994\n",
       "15           9  51.677286             7.210585\n",
       "16          30  50.849658             7.354856\n",
       "17          65  50.524061             7.378465\n",
       "18          28  50.230328            11.421451\n",
       "19          55  50.125193            11.405182"
      ]
     },
     "execution_count": 290,
     "metadata": {},
     "output_type": "execute_result"
    }
   ],
   "source": [
    "bikeshare_top25_bike_availability[bikeshare_top25_bike_availability['pct_bikes'] > 50]"
   ]
  },
  {
   "cell_type": "markdown",
   "id": "8cd3a7dd",
   "metadata": {},
   "source": [
    "There some stations where the percentage availability is higher than 50% during the time frame. We could provide offers to incentivise users to use these stations where percentage availability is higher. The above list is the one that we could use to send offers."
   ]
  }
 ],
 "metadata": {
  "environment": {
   "name": "common-cpu.m68",
   "type": "gcloud",
   "uri": "gcr.io/deeplearning-platform-release/base-cpu:m68"
  },
  "kernelspec": {
   "display_name": "Python 3",
   "language": "python",
   "name": "python3"
  },
  "language_info": {
   "codemirror_mode": {
    "name": "ipython",
    "version": 3
   },
   "file_extension": ".py",
   "mimetype": "text/x-python",
   "name": "python",
   "nbconvert_exporter": "python",
   "pygments_lexer": "ipython3",
   "version": "3.7.10"
  }
 },
 "nbformat": 4,
 "nbformat_minor": 5
}
